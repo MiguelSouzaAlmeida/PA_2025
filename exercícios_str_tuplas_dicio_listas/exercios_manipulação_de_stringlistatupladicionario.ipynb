{
  "nbformat": 4,
  "nbformat_minor": 0,
  "metadata": {
    "colab": {
      "provenance": [],
      "include_colab_link": true
    },
    "kernelspec": {
      "name": "python3",
      "display_name": "Python 3"
    },
    "language_info": {
      "name": "python"
    }
  },
  "cells": [
    {
      "cell_type": "markdown",
      "metadata": {
        "id": "view-in-github",
        "colab_type": "text"
      },
      "source": [
        "<a href=\"https://colab.research.google.com/github/MiguelSouzaAlmeida/PA_2025/blob/main/exerc%C3%ADcios_str_tuplas_dicio_listas/exercios_manipula%C3%A7%C3%A3o_de_stringlistatupladicionario.ipynb\" target=\"_parent\"><img src=\"https://colab.research.google.com/assets/colab-badge.svg\" alt=\"Open In Colab\"/></a>"
      ]
    },
    {
      "cell_type": "markdown",
      "source": [
        "#Manipulação de string"
      ],
      "metadata": {
        "id": "_7inM_u62CoJ"
      }
    },
    {
      "cell_type": "code",
      "execution_count": 3,
      "metadata": {
        "id": "SSxNivsQ12Eg",
        "colab": {
          "base_uri": "https://localhost:8080/"
        },
        "outputId": "35d95b0c-489e-4c3d-8ed9-26d7c0eec969"
      },
      "outputs": [
        {
          "output_type": "stream",
          "name": "stdout",
          "text": [
            "11\n"
          ]
        }
      ],
      "source": [
        "# 1 - Use o método len para imprimir o comprimento da string.\n",
        "hello = \"Hello World\"\n",
        "print(len(hello))\n"
      ]
    },
    {
      "cell_type": "code",
      "source": [
        "# 2 - Obtenha o primeiro caractere da string txt.\n",
        "str = \"Hello World\"\n",
        "c = str[0]\n",
        "print(x)"
      ],
      "metadata": {
        "id": "N_VuvS-v26cO",
        "colab": {
          "base_uri": "https://localhost:8080/"
        },
        "outputId": "1487ac88-bf2a-4180-b8e3-095e9a0a958d"
      },
      "execution_count": 9,
      "outputs": [
        {
          "output_type": "stream",
          "name": "stdout",
          "text": [
            "H\n"
          ]
        }
      ]
    },
    {
      "cell_type": "code",
      "source": [
        "# 3 - Obtenha os caracteres do índice 2 ao índice 4 ( llo).\n",
        "str = \"Hello World\"\n",
        "c = str [2:5]\n",
        "print(c)"
      ],
      "metadata": {
        "id": "-IJQi7MO27Ht",
        "colab": {
          "base_uri": "https://localhost:8080/"
        },
        "outputId": "8594c430-dfdb-4d25-a0e8-a72da2f9c7eb"
      },
      "execution_count": 10,
      "outputs": [
        {
          "output_type": "stream",
          "name": "stdout",
          "text": [
            "llo\n"
          ]
        }
      ]
    },
    {
      "cell_type": "code",
      "source": [
        "# 4 - Converta o valor de txt para maiúsculas.\n",
        "str = \"Hello World\".upper()\n",
        "print(str)"
      ],
      "metadata": {
        "id": "NrBGf31P2-Ve",
        "colab": {
          "base_uri": "https://localhost:8080/"
        },
        "outputId": "c7bacbe7-2988-4393-92d4-c2966bf81311"
      },
      "execution_count": 13,
      "outputs": [
        {
          "output_type": "stream",
          "name": "stdout",
          "text": [
            "HELLO WORLD\n"
          ]
        }
      ]
    },
    {
      "cell_type": "code",
      "source": [
        "# 5 - Conte quantas vezes aparece a palavra \"de\" na string abaixo\n",
        "str = \"Eu gosto de vijar, tomar vinho, de estudar estudar programação, de estudar Pyhon\"\n",
        "str = str.count(\"de\")\n",
        "print(str)"
      ],
      "metadata": {
        "id": "r522f-Zt3CXN",
        "colab": {
          "base_uri": "https://localhost:8080/"
        },
        "outputId": "98b2fa2c-9430-4ca3-ab80-067cb979c2e4"
      },
      "execution_count": 14,
      "outputs": [
        {
          "output_type": "stream",
          "name": "stdout",
          "text": [
            "3\n"
          ]
        }
      ]
    },
    {
      "cell_type": "code",
      "source": [
        "# 6 - Separe a frase abaixo toda vez que encontrar um vírgula\n",
        "str= \"Eu gosto de vijar, tomar vinho, de estudar estudar programação, de estudar Pyhon\"\n",
        "str = str.split(\",\")\n",
        "print(str)"
      ],
      "metadata": {
        "id": "EGQAiNPY3EiN",
        "colab": {
          "base_uri": "https://localhost:8080/"
        },
        "outputId": "89b24029-39b9-4c79-fd9b-731db0422708"
      },
      "execution_count": 27,
      "outputs": [
        {
          "output_type": "stream",
          "name": "stdout",
          "text": [
            "['Eu gosto de vijar', ' tomar vinho', ' de estudar estudar programação', ' de estudar Pyhon']\n"
          ]
        }
      ]
    },
    {
      "cell_type": "code",
      "source": [
        "#7 - Peça ao usuário uma frase e substitua todas as ocorrências de espaço por “#”.\n",
        "str = (input(\"Digite uma frase: \"))\n",
        "sb = str.replace(\" \", \"#\")\n",
        "print(sb)"
      ],
      "metadata": {
        "id": "M51UdcGU3HWF",
        "colab": {
          "base_uri": "https://localhost:8080/"
        },
        "outputId": "ece912bf-6a15-449f-8f9d-43a7c35df176"
      },
      "execution_count": 17,
      "outputs": [
        {
          "output_type": "stream",
          "name": "stdout",
          "text": [
            "Digite uma frase: eu gosto de python\n",
            "eu#gosto#de#python\n"
          ]
        }
      ]
    },
    {
      "cell_type": "code",
      "source": [
        "# 8 - Faça um programa que retorne True se duas strings lidas do teclado são palíndromas mútuas, ou seja, se uma é igual à outra quando lida de traz para frente ou False, se não forem.\n",
        "# Por exemplo: amor e roma\n",
        "p1 = input(\"Digite a primeira palavra: \").lower()\n",
        "p2 = input(\"Digite segunda palavra: \").lower()\n",
        "\n",
        "inversao1 = p1[::-1]\n",
        "inversao2 = p2[::-1]\n",
        "\n",
        "if inversao1 == p2 and inversao2 == p1:\n",
        "    print(\"A palavra é uma Palíndroma Mútua\")\n",
        "elif inversao1 == p1 and inversao2 == p2:\n",
        "    print(\"As duas palavras são Palíndromas Difirentes\")\n",
        "elif inversao1 == p1:\n",
        "    print(\"A primeira palavra é Palíndroma\")\n",
        "elif inversao2 == p2:\n",
        "    print(\"A segunda palavra é Palíndroma\")\n",
        "else:\n",
        "    print(\"Nenhuma palavra palíndroma\")"
      ],
      "metadata": {
        "id": "J40DBY8q3K0N",
        "colab": {
          "base_uri": "https://localhost:8080/"
        },
        "outputId": "44a0d031-9457-4116-aba8-8e3b1affead8"
      },
      "execution_count": 25,
      "outputs": [
        {
          "output_type": "stream",
          "name": "stdout",
          "text": [
            "Digite a primeira palavra: amor\n",
            "Digite segunda palavra: roma\n",
            "A palavra é uma Palíndroma Mútua\n"
          ]
        }
      ]
    },
    {
      "cell_type": "code",
      "source": [
        "# 9- Faça um programa que leia o nome do usuário e mostre o nome de traz para frente, utilizando somente letras maiúsculas.\n",
        "nome = (input(\"Diga seu nome: \"))\n",
        "inv = nome[::-1]\n",
        "maiuscula = inv.upper()\n",
        "print(maiuscula)"
      ],
      "metadata": {
        "id": "fF1Qww3c3QKN",
        "colab": {
          "base_uri": "https://localhost:8080/"
        },
        "outputId": "7ec02ff8-8d76-4ec1-e6c4-d34b5d1d0c87"
      },
      "execution_count": 31,
      "outputs": [
        {
          "output_type": "stream",
          "name": "stdout",
          "text": [
            "Diga seu nome: miguel\n",
            "LEUGIM\n"
          ]
        }
      ]
    },
    {
      "cell_type": "markdown",
      "source": [
        "#Exercicios de Lista, tupla e dicionário"
      ],
      "metadata": {
        "id": "ChZbNtgp5ZUo"
      }
    },
    {
      "cell_type": "code",
      "source": [
        "# Exercício 1 -\n",
        "cid = [\"Santo andré\", \"Lapa\", \"Barra-Funda\", \"Itaquera \", \"Jundíai\"]\n",
        "cid.append(\"Guapituba\")\n",
        "cid.pop(1)\n",
        "print(cid)\n"
      ],
      "metadata": {
        "id": "5Iby18JC5e73",
        "colab": {
          "base_uri": "https://localhost:8080/"
        },
        "outputId": "9163a045-ab39-4331-a889-c357f2f983f8"
      },
      "execution_count": 33,
      "outputs": [
        {
          "output_type": "stream",
          "name": "stdout",
          "text": [
            "['Santo andré', 'Barra-Funda', 'Itaquera ', 'Jundíai', 'Guapituba']\n"
          ]
        }
      ]
    },
    {
      "cell_type": "code",
      "source": [
        "#Exercicio 2\n",
        "cor = \"Dourado\", \"Verde\", \"Prata\", \"Roxo\"\n",
        "cor2 = cor + (\"Azul\", \"Vermelho\")\n",
        "print(cor2)"
      ],
      "metadata": {
        "id": "-FdZiAat5j8v",
        "colab": {
          "base_uri": "https://localhost:8080/"
        },
        "outputId": "29680ab7-909c-49b1-93f3-b5cebe140850"
      },
      "execution_count": 34,
      "outputs": [
        {
          "output_type": "stream",
          "name": "stdout",
          "text": [
            "('Dourado', 'Verde', 'Prata', 'Roxo', 'Azul', 'Vermelho')\n"
          ]
        }
      ]
    },
    {
      "cell_type": "code",
      "source": [
        "#Exercicio 3\n",
        "al = {\n",
        "    \"nome\": \"Miguel\",\n",
        "    \"idade\": 19,\n",
        "    \"curso\": \"Informática\"\n",
        "}\n",
        "al[\"idade\"] = 16\n",
        "al[\"nota\"] = \"I\"\n",
        "print(al)\n"
      ],
      "metadata": {
        "id": "dZro4th35mkn",
        "colab": {
          "base_uri": "https://localhost:8080/"
        },
        "outputId": "f3acbc5a-d622-4f9e-bcdb-34e0015aab4e"
      },
      "execution_count": 36,
      "outputs": [
        {
          "output_type": "stream",
          "name": "stdout",
          "text": [
            "{'nome': 'Miguel', 'idade': 16, 'curso': 'Informática', 'nota': 'I'}\n"
          ]
        }
      ]
    },
    {
      "cell_type": "code",
      "source": [
        "#Exercicio 4\n",
        "produtos = [\n",
        "\n",
        "    {\"nome\": \"Opala\", \"preço\": 18000},\n",
        "    {\"nome\": \"Dodge RAM\", \"preço\": 550000},\n",
        "    {\"nome\": \"Mitsubichi Lancer\", \"preço\": 75000}\n",
        "]\n",
        "\n",
        "produtos.append({\"nome\": \"Porsche Panamera\", \"preço\": 800000})\n",
        "\n",
        "produtos[0][\"preço\"] = 18000\n",
        "\n",
        "print(produtos)"
      ],
      "metadata": {
        "id": "-aJVR0eP5r9W",
        "colab": {
          "base_uri": "https://localhost:8080/"
        },
        "outputId": "9c2d7718-22f2-4b64-cfbb-408dd9c4deac"
      },
      "execution_count": 39,
      "outputs": [
        {
          "output_type": "stream",
          "name": "stdout",
          "text": [
            "[{'nome': 'Opala', 'preço': 18000}, {'nome': 'Dodge RAM', 'preço': 550000}, {'nome': 'Mitsubichi Lancer', 'preço': 75000}, {'nome': 'Porsche Panamera', 'preço': 800000}]\n"
          ]
        }
      ]
    },
    {
      "cell_type": "code",
      "source": [
        "#Exercicio 5\n",
        "lista =[('Miguel', 15), ('Nerd', 70), ('Freire', 17), ('Jhean', 22)]\n",
        "mv = 0\n",
        "ndv = \"\"\n",
        "\n",
        "if lista[0][1] > mv:\n",
        "  mv = lista[0][1]\n",
        "  ndv = lista[0][0]\n",
        "if lista[1][1] > mv:\n",
        "  mv = lista[1][1]\n",
        "  ndv = lista[1][0]\n",
        "if lista[2][1] > mv:\n",
        "  mv = lista[2][1]\n",
        "  ndv = lista[2][0]\n",
        "if lista[3][1] > mv:\n",
        "  mv = lista[3][1]\n",
        "  ndv = lista[3][0]\n",
        "media = (lista[0][1] + lista[1][1] + lista[2][1] + lista[3][1])/4\n",
        "\n",
        "print(f\"A pessoa mais velha é: {ndv} com a idade de : {mv}, e a media de idade é: {media}\")"
      ],
      "metadata": {
        "id": "VgumDnZP58lV",
        "colab": {
          "base_uri": "https://localhost:8080/"
        },
        "outputId": "247c0575-fe75-46d4-f6ba-66c189b7f401"
      },
      "execution_count": 42,
      "outputs": [
        {
          "output_type": "stream",
          "name": "stdout",
          "text": [
            "A pessoa mais velha é: Nerd com a idade de : 70, e a media de idade é: 31.0\n"
          ]
        }
      ]
    }
  ]
}