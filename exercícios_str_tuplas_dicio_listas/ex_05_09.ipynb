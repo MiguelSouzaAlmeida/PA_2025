{
  "cells": [
    {
      "cell_type": "markdown",
      "metadata": {
        "id": "view-in-github",
        "colab_type": "text"
      },
      "source": [
        "<a href=\"https://colab.research.google.com/github/MiguelSouzaAlmeida/PA_2025/blob/main/exerc%C3%ADcios_str_tuplas_dicio_listas/ex_05_09.ipynb\" target=\"_parent\"><img src=\"https://colab.research.google.com/assets/colab-badge.svg\" alt=\"Open In Colab\"/></a>"
      ]
    },
    {
      "cell_type": "markdown",
      "id": "50e41763",
      "metadata": {
        "id": "50e41763"
      },
      "source": [
        "# Lista de Exercícios - Python (Loops, Strings e Dicionários)\n",
        "Este notebook contém 15 exercícios para praticar `for`, `while`, manipulação de **strings** e **dicionários`."
      ]
    },
    {
      "cell_type": "markdown",
      "id": "6c5e8da0",
      "metadata": {
        "id": "6c5e8da0"
      },
      "source": [
        "### 1. **Contagem de vogais**: Peça uma palavra e conte quantas vezes cada vogal aparece (usar `for` ou `while`)."
      ]
    },
    {
      "cell_type": "code",
      "execution_count": 3,
      "id": "15f84469",
      "metadata": {
        "id": "15f84469",
        "colab": {
          "base_uri": "https://localhost:8080/"
        },
        "outputId": "8788c03a-b97d-4cb8-a9fc-094401206124"
      },
      "outputs": [
        {
          "output_type": "stream",
          "name": "stdout",
          "text": [
            "Insira uma palavra: jhean\n",
            "Temos a vogal: e\n",
            "Temos a vogal: a\n"
          ]
        }
      ],
      "source": [
        "palavra = str(input('Insira uma palavra: '))\n",
        "vog = 'aeiou'\n",
        "for letras in palavra:\n",
        "  if letras in vog:\n",
        "    print(\"Temos a vogal:\", letras)\n",
        "\n"
      ]
    },
    {
      "cell_type": "markdown",
      "id": "2446d942",
      "metadata": {
        "id": "2446d942"
      },
      "source": [
        "### 2. **Inversão de string**: Solicite uma frase e mostre-a invertida **sem usar slicing** (`[::-1]` não vale). Use `while`."
      ]
    },
    {
      "cell_type": "code",
      "execution_count": 5,
      "id": "4bd947d4",
      "metadata": {
        "id": "4bd947d4",
        "colab": {
          "base_uri": "https://localhost:8080/"
        },
        "outputId": "c140b2f8-f42b-4f84-d696-37745124b450"
      },
      "outputs": [
        {
          "output_type": "stream",
          "name": "stdout",
          "text": [
            "Digite uma frase: eu sou eu\n",
            "Frase invertida: ue uos ue\n"
          ]
        }
      ],
      "source": [
        "frase = str(input(\"Digite uma frase: \"))\n",
        "inv = \"\"\n",
        "indice = len(frase) - 1\n",
        "while indice >= 0:\n",
        "    inv += frase[indice]\n",
        "    indice -= 1\n",
        "print(\"Frase invertida:\", inv)"
      ]
    },
    {
      "cell_type": "markdown",
      "id": "096a5b5d",
      "metadata": {
        "id": "096a5b5d"
      },
      "source": [
        "### 3. **Frequência de caracteres**: Dada uma string, crie um dicionário que mostre quantas vezes cada caractere aparece."
      ]
    },
    {
      "cell_type": "code",
      "execution_count": 7,
      "id": "bd28dd49",
      "metadata": {
        "id": "bd28dd49",
        "colab": {
          "base_uri": "https://localhost:8080/"
        },
        "outputId": "bbb76c2b-ec52-4f14-f008-497d814c5a2f"
      },
      "outputs": [
        {
          "output_type": "stream",
          "name": "stdout",
          "text": [
            "Digite uma frase: meu nome e miguel\n",
            "Aqui está a sequência de caracteres: {'m': 3, 'e': 4, 'u': 2, ' ': 3, 'n': 1, 'o': 1, 'i': 1, 'g': 1, 'l': 1}\n"
          ]
        }
      ],
      "source": [
        "frase = str(input(\"Digite uma frase: \"))\n",
        "freq = {}\n",
        "for caractere in frase:\n",
        "    if caractere in freq:\n",
        "        freq[caractere] += 1\n",
        "    else:\n",
        "        freq[caractere] = 1\n",
        "print(\"Aqui está a sequência de caracteres:\", freq)"
      ]
    },
    {
      "cell_type": "markdown",
      "id": "d046cc57",
      "metadata": {
        "id": "d046cc57"
      },
      "source": [
        "### 4. **Palavras únicas**: Peça uma frase e mostre as palavras que aparecem **apenas uma vez**."
      ]
    },
    {
      "cell_type": "code",
      "execution_count": 11,
      "id": "092bef79",
      "metadata": {
        "id": "092bef79",
        "colab": {
          "base_uri": "https://localhost:8080/"
        },
        "outputId": "21850e75-7299-430d-994c-5f0b64723f53"
      },
      "outputs": [
        {
          "output_type": "stream",
          "name": "stdout",
          "text": [
            "Escreva uma frase: eu sou eu \n",
            "Palavras únicas: ['sou']\n"
          ]
        }
      ],
      "source": [
        "frase1 = str(input(\"Escreva uma frase: \"))\n",
        "p1 = frase1.split()\n",
        "unc = {}\n",
        "for palavra in p1:\n",
        "    if palavra not in unc:\n",
        "        unc[palavra] = 1\n",
        "    else:\n",
        "        unc[palavra] += 1\n",
        "palavrau = [palavra for palavra, count in unc.items() if count == 1]\n",
        "print(\"Palavras únicas:\", palavrau)\n"
      ]
    },
    {
      "cell_type": "markdown",
      "id": "3ea99323",
      "metadata": {
        "id": "3ea99323"
      },
      "source": [
        "### 5. **Substituição manual**: Peça uma string e duas letras: substitua **manualmente** todas as ocorrências da primeira letra pela segunda, usando laço."
      ]
    },
    {
      "cell_type": "code",
      "execution_count": 14,
      "id": "4d1406be",
      "metadata": {
        "id": "4d1406be",
        "colab": {
          "base_uri": "https://localhost:8080/"
        },
        "outputId": "a7138b0a-0a41-4ce7-ba64-3df4093fa728"
      },
      "outputs": [
        {
          "output_type": "stream",
          "name": "stdout",
          "text": [
            "Digite uma palavra: eu \n",
            "Digite a letra a ser substituída: u\n",
            "Digite a letra que substituirá a antiga: i\n",
            "A sua nova palavra é : ei \n"
          ]
        }
      ],
      "source": [
        "palavra = input(\"Digite uma palavra: \")\n",
        "letra1 = input(\"Digite a letra a ser substituída: \")\n",
        "letra2 = input(\"Digite a letra que substituirá a antiga: \")\n",
        "npalavra = \"\"\n",
        "for caractere in palavra:\n",
        "    if caractere == letra1:\n",
        "        npalavra += letra2\n",
        "    else:\n",
        "        npalavra+= caractere\n",
        "print(\"A sua nova palavra é :\", npalavra)"
      ]
    },
    {
      "cell_type": "markdown",
      "id": "870e9e64",
      "metadata": {
        "id": "870e9e64"
      },
      "source": [
        "### 6. **Palíndromo**: Verifique se uma palavra é um **palíndromo** sem usar funções prontas de reversão."
      ]
    },
    {
      "cell_type": "code",
      "execution_count": 16,
      "id": "87824151",
      "metadata": {
        "id": "87824151",
        "colab": {
          "base_uri": "https://localhost:8080/"
        },
        "outputId": "9be9d094-a33f-4388-80f0-492aa3e197b6"
      },
      "outputs": [
        {
          "output_type": "stream",
          "name": "stdout",
          "text": [
            "Escreva uma palavra : amor\n",
            "A palavra não é um palíndromo.\n"
          ]
        }
      ],
      "source": [
        "p1 = input(\"Escreva uma palavra : \")\n",
        "inv = \"\"\n",
        "indice = len(p1) - 1\n",
        "while indice >= 0:\n",
        "    inv += p1[indice]\n",
        "    indice -= 1\n",
        "if p1 == inv:\n",
        "    print(\"A palavra é um palíndromo.\")\n",
        "else:\n",
        "    print(\"A palavra não é um palíndromo.\")"
      ]
    },
    {
      "cell_type": "markdown",
      "id": "ce1b0e1f",
      "metadata": {
        "id": "ce1b0e1f"
      },
      "source": [
        "### 7. **Enigma da senha**: Peça uma string e crie uma nova palavra pegando apenas as letras nas **posições ímpares**."
      ]
    },
    {
      "cell_type": "code",
      "execution_count": 19,
      "id": "9fc744d2",
      "metadata": {
        "id": "9fc744d2",
        "colab": {
          "base_uri": "https://localhost:8080/"
        },
        "outputId": "615bd616-c1a6-46df-c2f6-2a3f6b38e7ea"
      },
      "outputs": [
        {
          "output_type": "stream",
          "name": "stdout",
          "text": [
            "Digite uma string : miguel\n",
            "Nova palavra: iul\n"
          ]
        }
      ],
      "source": [
        "str = input(\"Digite uma string : \")\n",
        "pnova = \"\"\n",
        "for i in range(1, len(str), 2):\n",
        "    pnova += str[i]\n",
        "print(\"Nova palavra:\", pnova)"
      ]
    },
    {
      "cell_type": "markdown",
      "id": "42fe1350",
      "metadata": {
        "id": "42fe1350"
      },
      "source": [
        "### 8. **Expansão de abreviações**: Dado um dicionário de abreviações, substitua manualmente cada ocorrência em uma frase.\n",
        "\n",
        "(Ex: (vc: você, blz: beleza ..."
      ]
    },
    {
      "cell_type": "code",
      "execution_count": 24,
      "id": "e63acd2a",
      "metadata": {
        "id": "e63acd2a",
        "colab": {
          "base_uri": "https://localhost:8080/"
        },
        "outputId": "6034bf50-b01b-4ef3-a3c8-b31859b597e8"
      },
      "outputs": [
        {
          "output_type": "stream",
          "name": "stdout",
          "text": [
            "Fale uma frase: vc esta bem \n",
            "Frase expandida: você esta bem\n"
          ]
        }
      ],
      "source": [
        "abrv = {\n",
        "    \"vc\": \"você\",\n",
        "    \"qlq\": \"qualquer\",\n",
        "    \"blz\": \"beleza\",\n",
        "    \"tb\": \"também\",\n",
        "    \"pq\": \"porque\",\n",
        "    \"qlqr\": \"qualquer\",\n",
        "    \"gnt\": \"gente\"\n",
        "}\n",
        "f1 = input(\"Fale uma frase: \")\n",
        "palavrascorrigidas = f1.split()\n",
        "frasecorrigida = \"\"\n",
        "for palavra in palavrascorrigidas:\n",
        "    if palavra.lower() in abrv:\n",
        "         frasecorrigida += abrv[palavra.lower()] + \" \"\n",
        "    else:\n",
        "        frasecorrigida += palavra + \" \"\n",
        "print(\"Frase expandida:\", frasecorrigida.strip())\n"
      ]
    },
    {
      "cell_type": "markdown",
      "id": "3cf96a02",
      "metadata": {
        "id": "3cf96a02"
      },
      "source": [
        "### 9. **Criptografia simples**: Implemente uma cifra de substituição onde cada letra é trocada pela **próxima no alfabeto** (z → a)."
      ]
    },
    {
      "cell_type": "code",
      "execution_count": 26,
      "id": "c8a0d724",
      "metadata": {
        "id": "c8a0d724",
        "colab": {
          "base_uri": "https://localhost:8080/"
        },
        "outputId": "88ef022f-96d0-41b5-e0e1-8c1f45122dc4"
      },
      "outputs": [
        {
          "output_type": "stream",
          "name": "stdout",
          "text": [
            "Digite o texto que será criptografado: eu sou muito bom \n",
            "Texto criptografado: fv tpv nvjup cpn \n"
          ]
        }
      ],
      "source": [
        "texto = input(\"Digite o texto que será criptografado: \")\n",
        "amenor = \"abcdefghijklmnopqrstuvwxyz\"\n",
        "amaior = \"ABCDEFGHIJKLMNOPQRSTUVWXYZ\"\n",
        "resultado = \"\"\n",
        "for i in texto:\n",
        "    if i.islower():\n",
        "        indice = amenor.index(i)\n",
        "        nova_letra = amenor[(indice + 1) % 26]\n",
        "        resultado += nova_letra\n",
        "    elif i.isupper():\n",
        "        indice = amaior.index(letra)\n",
        "        nova_letra = amaior[(indice + 1) % 26]\n",
        "        resultado += nova_letra\n",
        "    else:\n",
        "        resultado += i\n",
        "print(\"Texto criptografado:\", resultado)\n"
      ]
    },
    {
      "cell_type": "markdown",
      "id": "4897443b",
      "metadata": {
        "id": "4897443b"
      },
      "source": [
        "### 10. **Anagrama**: Verifique se duas palavras são **anagramas**, usando dicionário para contar ocorrências."
      ]
    },
    {
      "cell_type": "code",
      "source": [
        "p1 = input(\"Escreva uma palavra: \")\n",
        "p2 = input(\"Escreva outra palavra: \")\n",
        "ana1 = {}\n",
        "for l in p1:\n",
        "    if l in ana1:\n",
        "        ana1[l] += 1\n",
        "    else:\n",
        "        ana1[l] = 1\n",
        "ana2 = {}\n",
        "for l in p2:\n",
        "    if l in ana2:\n",
        "        ana2[l] += 1\n",
        "    else:\n",
        "        ana2[l] = 1\n",
        "if ana1 == ana2:\n",
        "    print(\"As palavras são anagramas.\")\n",
        "else:\n",
        "    print(\"As palavras não são anagramas.\")"
      ],
      "metadata": {
        "colab": {
          "base_uri": "https://localhost:8080/"
        },
        "id": "lUcxpTCSa8a1",
        "outputId": "cf1b4f35-9e9e-424a-9ff2-2c1f80d16cfe"
      },
      "id": "lUcxpTCSa8a1",
      "execution_count": 41,
      "outputs": [
        {
          "output_type": "stream",
          "name": "stdout",
          "text": [
            "Escreva uma palavra: amor\n",
            "Escreva outra palavra: roma\n",
            "As palavras são anagramas.\n"
          ]
        }
      ]
    }
  ],
  "metadata": {
    "colab": {
      "provenance": [],
      "include_colab_link": true
    },
    "language_info": {
      "name": "python"
    },
    "kernelspec": {
      "name": "python3",
      "display_name": "Python 3"
    }
  },
  "nbformat": 4,
  "nbformat_minor": 5
}