{
  "nbformat": 4,
  "nbformat_minor": 0,
  "metadata": {
    "colab": {
      "provenance": [],
      "authorship_tag": "ABX9TyORKq6+CmKs9izPcyb85mba",
      "include_colab_link": true
    },
    "kernelspec": {
      "name": "python3",
      "display_name": "Python 3"
    },
    "language_info": {
      "name": "python"
    }
  },
  "cells": [
    {
      "cell_type": "markdown",
      "metadata": {
        "id": "view-in-github",
        "colab_type": "text"
      },
      "source": [
        "<a href=\"https://colab.research.google.com/github/MiguelSouzaAlmeida/PA_2025/blob/main/operadoreslogicos_relacionais/exerc%C3%ADcos_condicionais.ipynb\" target=\"_parent\"><img src=\"https://colab.research.google.com/assets/colab-badge.svg\" alt=\"Open In Colab\"/></a>"
      ]
    },
    {
      "cell_type": "markdown",
      "source": [
        "#Lista de exercícios Condicionais"
      ],
      "metadata": {
        "id": "Umx0vY99NoaL"
      }
    },
    {
      "cell_type": "markdown",
      "source": [
        "#1-Triângulo"
      ],
      "metadata": {
        "id": "yV7zTuQ0OU9I"
      }
    },
    {
      "cell_type": "code",
      "execution_count": 23,
      "metadata": {
        "colab": {
          "base_uri": "https://localhost:8080/"
        },
        "id": "uHwBSb8tNkzO",
        "outputId": "a847a0c7-8146-4381-e66a-57818825d157"
      },
      "outputs": [
        {
          "output_type": "stream",
          "name": "stdout",
          "text": [
            "Informe o valor do primeiro lado: 10\n",
            "Informe o valor do segundo lado: 20\n",
            "Informe o valor do terceiro lado: 30\n",
            "Os lados não formam um triângulo\n"
          ]
        }
      ],
      "source": [
        "#entrada\n",
        "l1 = float(input('Informe o valor do primeiro lado: '))\n",
        "l2 = float(input('Informe o valor do segundo lado: '))\n",
        "l3 = float(input('Informe o valor do terceiro lado: '))\n",
        "#processamento\n",
        "if ((l1 + l2 > l3) and (l1 + l3 > l2) and (l3 + l2 > l1)):\n",
        " if( l1== l2 == l3 ):\n",
        "  print('O triângulo é Equilátero')\n",
        " elif(l1 != l2 and l1 != l3):\n",
        "  print('O triângulo é Escaleno')\n",
        " else:\n",
        "  print('O triângulo é Isósceles')\n",
        "else:\n",
        " print('Os lados não formam um triângulo')"
      ]
    },
    {
      "cell_type": "markdown",
      "source": [
        "#2-Par ou Impar"
      ],
      "metadata": {
        "id": "QiNrHQNkV3Ki"
      }
    },
    {
      "cell_type": "code",
      "source": [
        "#entrada\n",
        "valor= float(input(\"Digite um valor: \"))\n",
        "#processamento\n",
        "if(valor % 2 == 0):\n",
        "  print('Esse é um número par!')\n",
        "else:\n",
        "  print('Esse é um impar! ')"
      ],
      "metadata": {
        "colab": {
          "base_uri": "https://localhost:8080/"
        },
        "id": "yfSOmKpoWC4J",
        "outputId": "aa9c2abc-7d50-477e-d480-d30f74ef0aa9"
      },
      "execution_count": 25,
      "outputs": [
        {
          "output_type": "stream",
          "name": "stdout",
          "text": [
            "Digite um valor: 1\n",
            "Esse é um impar \n"
          ]
        }
      ]
    },
    {
      "cell_type": "markdown",
      "source": [
        "#3-IMC"
      ],
      "metadata": {
        "id": "7DmbogBQW2zt"
      }
    },
    {
      "cell_type": "code",
      "source": [
        "#entrada\n",
        "peso = float(input('Digite seu peso: '))\n",
        "altura = float(input('Digite sua altura: '))\n",
        "\n",
        "#processamento\n",
        "IMC = (peso/altura**2)\n",
        "if (IMC < 18.5):\n",
        " print('Você está abaixo do peso')\n",
        "elif(IMC >= 18.5 and IMC <= 24.9):\n",
        " print('Você está no peso normal')\n",
        "elif(IMC >= 25 and IMC <= 29.9):\n",
        " print('Você está com sobrepeso')\n",
        "elif(IMC >= 30 and IMC <= 34.9):\n",
        " print('Você está com Obesidade grau 1')\n",
        "elif(IMC >= 35 and  IMC <=39.9):\n",
        " print('Você está com Obesidade grau 2 ')\n",
        "else:\n",
        " print('Você está com Obesidade grau 3')\n",
        "\n",
        "print(f'Seu IMC é {IMC}')"
      ],
      "metadata": {
        "colab": {
          "base_uri": "https://localhost:8080/"
        },
        "id": "Z-LeHi6QW77s",
        "outputId": "97b72ab7-9a26-4469-8cf1-822440ea6f8f"
      },
      "execution_count": 31,
      "outputs": [
        {
          "output_type": "stream",
          "name": "stdout",
          "text": [
            "Digite seu peso: 70\n",
            "Digite sua altura: 1.80\n",
            "Você está no peso normal\n",
            "Seu IMC é 21.604938271604937\n"
          ]
        }
      ]
    },
    {
      "cell_type": "markdown",
      "source": [
        "#4- Caixa eletrônico"
      ],
      "metadata": {
        "id": "3q6vivftam3g"
      }
    },
    {
      "cell_type": "code",
      "source": [
        "#entrada\n",
        "usuario = str(input('Digite o usuário: '))\n",
        "senha = str(input('Digite sua senha: '))\n",
        "#processamento\n",
        "usuarioc = 'cliente'\n",
        "senhac = '1234'\n",
        "if(usuario == usuarioc) and (senha == senhac):\n",
        " print('Acesso permitido!')\n",
        "else:\n",
        "  print('Acesso negado, usuário ou senha incorretos. Tente novamente')"
      ],
      "metadata": {
        "colab": {
          "base_uri": "https://localhost:8080/"
        },
        "id": "3ETdzpXJawMo",
        "outputId": "bfb9e513-e908-413c-b608-63161c8bd2ca"
      },
      "execution_count": 43,
      "outputs": [
        {
          "output_type": "stream",
          "name": "stdout",
          "text": [
            "Digite o usuário: cliente\n",
            "Digite sua senha: 1234\n",
            "Acesso permitido!\n"
          ]
        }
      ]
    },
    {
      "cell_type": "markdown",
      "source": [
        "#5- Simulador de Saque e Depósito com Limite"
      ],
      "metadata": {
        "id": "ooT07BOpfLM7"
      }
    },
    {
      "cell_type": "code",
      "source": [
        "#entrada\n",
        "saldo = -50.00\n",
        "limite = 3000\n",
        "usuario = str(input('Digite o usuário: '))\n",
        "senha = str(input('Digite sua senha: '))\n",
        "#processamento 1\n",
        "usuarioc = 'cliente'\n",
        "senhac = '1234'\n",
        "if(usuario == usuarioc) and (senha == senhac):\n",
        " print('Acesso permitido!')\n",
        " operação = int(input(\"O que deseja fazer??\\n Digite 1 para Saldo\\n Digite 2 para Sacar\\n Digite 3 para Depositar \"))\n",
        " if(operação == 1 )\n",
        "\n",
        "else:\n",
        "  print('Acesso negado, usuário ou senha incorretos. Tente novamente')\n",
        "\n",
        "\n"
      ],
      "metadata": {
        "colab": {
          "base_uri": "https://localhost:8080/"
        },
        "id": "TwYgA-eifTXA",
        "outputId": "9e2e5a19-f975-4d0a-fdea-c468143f8d99"
      },
      "execution_count": 52,
      "outputs": [
        {
          "output_type": "stream",
          "name": "stdout",
          "text": [
            "Digite o usuário: cliente\n",
            "Digite sua senha: 12345\n",
            "Acesso negado, usuário ou senha incorretos. Tente novamente\n"
          ]
        }
      ]
    }
  ]
}