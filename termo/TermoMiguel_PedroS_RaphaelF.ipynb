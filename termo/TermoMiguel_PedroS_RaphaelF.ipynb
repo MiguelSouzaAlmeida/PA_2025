{
  "nbformat": 4,
  "nbformat_minor": 0,
  "metadata": {
    "colab": {
      "provenance": [],
      "authorship_tag": "ABX9TyM6RF6qxzYcb3hEGf1of+CG",
      "include_colab_link": true
    },
    "kernelspec": {
      "name": "python3",
      "display_name": "Python 3"
    },
    "language_info": {
      "name": "python"
    }
  },
  "cells": [
    {
      "cell_type": "markdown",
      "metadata": {
        "id": "view-in-github",
        "colab_type": "text"
      },
      "source": [
        "<a href=\"https://colab.research.google.com/github/MiguelSouzaAlmeida/PA_2025/blob/main/termo/TermoMiguel_PedroS_RaphaelF.ipynb\" target=\"_parent\"><img src=\"https://colab.research.google.com/assets/colab-badge.svg\" alt=\"Open In Colab\"/></a>"
      ]
    },
    {
      "cell_type": "markdown",
      "source": [
        "#Termo em python\n",
        "##- Faça um código semelhante ao termo  "
      ],
      "metadata": {
        "id": "gr1Hhz1QG6ZV"
      }
    },
    {
      "cell_type": "code",
      "execution_count": null,
      "metadata": {
        "colab": {
          "base_uri": "https://localhost:8080/"
        },
        "id": "QRG0p-DvFLnp",
        "outputId": "11edd7ca-a0e3-4aa2-ab5e-5b2f0360748d"
      },
      "outputs": [
        {
          "output_type": "stream",
          "name": "stdout",
          "text": [
            "Tentativa 1: eu\n",
            "Inválido: a palavra deve ter 5 letras.\n",
            "Tentativa 2: alana\n",
            "Resultado: *_*_A\n",
            "Tentativa 3: artur\n",
            "Resultado: **__*\n"
          ]
        }
      ],
      "source": [
        "import random\n",
        "\n",
        "palavras = ['Alana', 'Bruno', 'Clara', 'Maria', 'Lucas', 'Pedro', 'Rapha', 'Hugo', 'David', 'Carla']\n",
        "\n",
        "while True:\n",
        "    nome = random.choice(palavras).upper()\n",
        "    acertou = False\n",
        "\n",
        "    for o in range(6):\n",
        "        tenta = input(f\"Tentativa {o+1}: \").upper()\n",
        "\n",
        "        if len(tenta) != 5:\n",
        "            print(\"Inválido: a palavra deve ter 5 letras.\")\n",
        "            continue\n",
        "\n",
        "        if tenta == nome:\n",
        "            print(\"Acertou!!!\")\n",
        "            acertou = True\n",
        "            break\n",
        "\n",
        "\n",
        "        result = \"\"\n",
        "        for a in range(5):\n",
        "            if tenta[a] == nome[a]:\n",
        "                result += tenta[a]\n",
        "            elif tenta[a] in nome:\n",
        "                result += \"*\"\n",
        "            else:\n",
        "                result += \"_\"\n",
        "\n",
        "        print(\"Resultado:\", result)\n",
        "\n",
        "    if not acertou:\n",
        "        print(f\"Você perdeu! A palavra era: {nome}\")\n",
        "\n",
        "    jogar_novamente = input(\"Vai de novo?:\").capitalize()\n",
        "    if jogar_novamente != \"Sim\":\n",
        "        break\n"
      ]
    },
    {
      "cell_type": "code",
      "source": [
        "while tentativas > 0 :\n",
        "    chute = input(f'\\nVocê tem {tentativas} tentativas. Digite um nome com {qtd_letras} letras: ').lower()\n",
        "\n",
        "    qtd_chute = len(chute)\n",
        "\n",
        "    while qtd_chute != qtd_letras:\n",
        "        chute = input(f'\\nVocê tem {tentativas} tentativas. Digite um nome com {qtd_letras} letras: ').lower()\n",
        "        qtd_chute = len(chute)\n",
        "\n"
      ],
      "metadata": {
        "id": "jQm63reiP1ka"
      },
      "execution_count": null,
      "outputs": []
    }
  ]
}