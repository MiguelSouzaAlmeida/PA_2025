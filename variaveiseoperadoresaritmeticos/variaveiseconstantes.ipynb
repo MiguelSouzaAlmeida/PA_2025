{
  "nbformat": 4,
  "nbformat_minor": 0,
  "metadata": {
    "colab": {
      "provenance": [],
      "authorship_tag": "ABX9TyM+BBtLjN3kGG6OswMHGAA8",
      "include_colab_link": true
    },
    "kernelspec": {
      "name": "python3",
      "display_name": "Python 3"
    },
    "language_info": {
      "name": "python"
    }
  },
  "cells": [
    {
      "cell_type": "markdown",
      "metadata": {
        "id": "view-in-github",
        "colab_type": "text"
      },
      "source": [
        "<a href=\"https://colab.research.google.com/github/MiguelSouzaAlmeida/PA_2025/blob/main/variaveiseoperadoresaritmeticos/variaveiseconstantes.ipynb\" target=\"_parent\"><img src=\"https://colab.research.google.com/assets/colab-badge.svg\" alt=\"Open In Colab\"/></a>"
      ]
    },
    {
      "cell_type": "markdown",
      "source": [
        "# Váriaveis e constantes\n"
      ],
      "metadata": {
        "id": "HLCAby7GgXaN"
      }
    },
    {
      "cell_type": "code",
      "source": [
        "idade = 15\n",
        "altura = 1.80\n",
        "nome = \"Miguel Souza Almeida\"\n",
        "vai = True\n"
      ],
      "metadata": {
        "id": "a42M_RulgrUB"
      },
      "execution_count": null,
      "outputs": []
    },
    {
      "cell_type": "code",
      "source": [
        "nomes = [\"Miguel Souza Almeida\",\"Mayara\",\"Cintia\"]\n",
        "nomes2 = (\"Miguel Souza Almeida\",\"Mayara\",\"Cintia\")\n",
        "tudo = {nome:\"Miguel Souza Almeida\",idade: 15, altura:1.80}"
      ],
      "metadata": {
        "id": "Aqh5W5JAi1pl"
      },
      "execution_count": null,
      "outputs": []
    },
    {
      "cell_type": "code",
      "source": [
        "print(nome)\n",
        "print(nomes)\n",
        "print(nomes2)\n",
        "print(tudo)"
      ],
      "metadata": {
        "colab": {
          "base_uri": "https://localhost:8080/"
        },
        "id": "s7Z5PPhBjT3j",
        "outputId": "94bd987c-b438-4155-db08-52ac5399e569"
      },
      "execution_count": null,
      "outputs": [
        {
          "output_type": "stream",
          "name": "stdout",
          "text": [
            "Miguel Souza Almeida\n",
            "['Miguel Souza Almeida', 'Mayara', 'Cintia']\n",
            "('Miguel Souza Almeida', 'Mayara', 'Cintia')\n",
            "{'Miguel Souza Almeida': 'Miguel Souza Almeida', 15: 15, 1.8: 1.8, True: True}\n"
          ]
        }
      ]
    },
    {
      "cell_type": "code",
      "source": [
        "print(type(idade))\n",
        "print(type(altura))\n",
        "print(type(vai))\n",
        "print(type(nome))\n",
        "print(type(nomes))\n",
        "print(type(nomes2))"
      ],
      "metadata": {
        "colab": {
          "base_uri": "https://localhost:8080/"
        },
        "id": "PXTFIbR5kL4s",
        "outputId": "f0219c29-1174-47fd-c95b-2eb353f34b37"
      },
      "execution_count": null,
      "outputs": [
        {
          "output_type": "stream",
          "name": "stdout",
          "text": [
            "<class 'int'>\n",
            "<class 'float'>\n",
            "<class 'bool'>\n",
            "<class 'str'>\n",
            "<class 'list'>\n",
            "<class 'tuple'>\n"
          ]
        }
      ]
    },
    {
      "cell_type": "code",
      "source": [
        "print(\"O nome dele é:\", nome,\", sua idade é: \", idade, \", ele tem \", altura,\" metros\")"
      ],
      "metadata": {
        "colab": {
          "base_uri": "https://localhost:8080/"
        },
        "id": "SHDwD4sVpNh_",
        "outputId": "a0c9e4c4-7328-45cb-e1b5-069ff524d81b"
      },
      "execution_count": null,
      "outputs": [
        {
          "output_type": "stream",
          "name": "stdout",
          "text": [
            "O nome dele é: Miguel Souza Almeida , sua idade é:  15 , ele tem  1.8  metros\n"
          ]
        }
      ]
    },
    {
      "cell_type": "code",
      "source": [
        "print(f\"O nome dele é: {nome}, ele tem {idade} anos, a altura dele é {altura}\")"
      ],
      "metadata": {
        "colab": {
          "base_uri": "https://localhost:8080/"
        },
        "id": "PonYh5FjsZMy",
        "outputId": "c97b5355-1e3c-48bb-ffd9-bbe82d54ecf9"
      },
      "execution_count": null,
      "outputs": [
        {
          "output_type": "stream",
          "name": "stdout",
          "text": [
            "O nome dele é: Miguel Souza Almeida, ele tem 15 anos, a altura dele é 1.8\n"
          ]
        }
      ]
    },
    {
      "cell_type": "markdown",
      "source": [
        "# Área do Círculo\n"
      ],
      "metadata": {
        "id": "rWzIb8o2veLo"
      }
    },
    {
      "cell_type": "code",
      "source": [
        "PI = 3.14159\n",
        "raio = float(input(\"Digite o valor do raio do círculo\"))"
      ],
      "metadata": {
        "colab": {
          "base_uri": "https://localhost:8080/"
        },
        "id": "VI7dfuQdvk8I",
        "outputId": "a388e282-8f3e-41ce-f8a4-539f76ed3614"
      },
      "execution_count": null,
      "outputs": [
        {
          "name": "stdout",
          "output_type": "stream",
          "text": [
            "Digite o valor do raio do círculo6\n"
          ]
        }
      ]
    },
    {
      "cell_type": "code",
      "source": [
        "areacir = PI * (raio**2)"
      ],
      "metadata": {
        "id": "qhL4qfLrwX0G"
      },
      "execution_count": null,
      "outputs": []
    },
    {
      "cell_type": "code",
      "source": [
        "print(f\"A área do círculo é {areacir}\")"
      ],
      "metadata": {
        "colab": {
          "base_uri": "https://localhost:8080/"
        },
        "id": "uj1DqH87xPKS",
        "outputId": "be8bf6f0-6258-4c40-a69d-7e06f03230c5"
      },
      "execution_count": null,
      "outputs": [
        {
          "output_type": "stream",
          "name": "stdout",
          "text": [
            "A área do círculo é 113.09724\n"
          ]
        }
      ]
    },
    {
      "cell_type": "markdown",
      "source": [
        "# Área do  quadrado\n"
      ],
      "metadata": {
        "id": "ckkTubNczwc9"
      }
    },
    {
      "cell_type": "code",
      "source": [
        "lado = float(input(\"Digite o lado do quadrado\"))\n"
      ],
      "metadata": {
        "colab": {
          "base_uri": "https://localhost:8080/"
        },
        "id": "TtnLf_xKz0Tt",
        "outputId": "6c61ba8f-d9f3-49a4-caf8-4f2df06ecec2"
      },
      "execution_count": 1,
      "outputs": [
        {
          "name": "stdout",
          "output_type": "stream",
          "text": [
            "Digite o lado do quadrado 5\n"
          ]
        }
      ]
    },
    {
      "cell_type": "code",
      "source": [
        "area  = lado ** 2\n",
        "print(f\"A área do quadrado é {area}\")"
      ],
      "metadata": {
        "colab": {
          "base_uri": "https://localhost:8080/"
        },
        "id": "grVx2k-A0lz0",
        "outputId": "7a3f842a-f175-415a-9f18-c7fbddf004a1"
      },
      "execution_count": 2,
      "outputs": [
        {
          "output_type": "stream",
          "name": "stdout",
          "text": [
            "A área do quadrado é 25.0\n"
          ]
        }
      ]
    }
  ]
}