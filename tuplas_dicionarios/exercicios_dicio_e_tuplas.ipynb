{
  "nbformat": 4,
  "nbformat_minor": 0,
  "metadata": {
    "colab": {
      "provenance": [],
      "authorship_tag": "ABX9TyOOQ9lMhhLOC1+fKNctbhbr",
      "include_colab_link": true
    },
    "kernelspec": {
      "name": "python3",
      "display_name": "Python 3"
    },
    "language_info": {
      "name": "python"
    }
  },
  "cells": [
    {
      "cell_type": "markdown",
      "metadata": {
        "id": "view-in-github",
        "colab_type": "text"
      },
      "source": [
        "<a href=\"https://colab.research.google.com/github/MiguelSouzaAlmeida/PA_2025/blob/main/tuplas_dicionarios/exercicios_dicio_e_tuplas.ipynb\" target=\"_parent\"><img src=\"https://colab.research.google.com/assets/colab-badge.svg\" alt=\"Open In Colab\"/></a>"
      ]
    },
    {
      "cell_type": "markdown",
      "source": [],
      "metadata": {
        "id": "AD1wWmtfG3DX"
      }
    },
    {
      "cell_type": "markdown",
      "source": [
        "## dicionarios e tuplas"
      ],
      "metadata": {
        "id": "_aTirw5vG38t"
      }
    },
    {
      "cell_type": "markdown",
      "source": [
        "# Exercício 1: Manipulação de Listas"
      ],
      "metadata": {
        "id": "RW93lXBNG920"
      }
    },
    {
      "cell_type": "code",
      "execution_count": null,
      "metadata": {
        "id": "cpKjLULVG2Ub"
      },
      "outputs": [],
      "source": [
        "lista = ['Mauá', 'Ribeirão Pires', 'Santo André', 'Guarulhos', 'São Bernado']\n",
        "lista.append('São Caetano')\n",
        "print(lista)\n",
        "lista.remove(\"Ribeirão Pires\")\n",
        "print(lista)"
      ]
    },
    {
      "cell_type": "markdown",
      "source": [
        "#Exercício 2: Operações com Tuplas"
      ],
      "metadata": {
        "id": "KSlMDgYIHKLw"
      }
    },
    {
      "cell_type": "code",
      "source": [
        "c1 = 'verde', 'dourado', 'amarelo', 'roxo'\n",
        "novac1 = c1 + (\"ciano\", \"azul\")\n",
        "print(novac1)\n"
      ],
      "metadata": {
        "id": "_yzpoexeHJn_",
        "colab": {
          "base_uri": "https://localhost:8080/"
        },
        "outputId": "2c68683b-d3a3-457c-b42d-e849f058ba7e"
      },
      "execution_count": null,
      "outputs": [
        {
          "output_type": "stream",
          "name": "stdout",
          "text": [
            "('verde', 'dourado', '', 'roxo', 'ciano', 'azul')\n"
          ]
        }
      ]
    },
    {
      "cell_type": "markdown",
      "source": [
        "#Exercício 3: Dicionários Simples"
      ],
      "metadata": {
        "id": "xYnljLhosHLR"
      }
    },
    {
      "cell_type": "code",
      "source": [
        "aluno = { \"nome\": \"Cleildu\",\n",
        "          \"idade\": 22,\n",
        "          \"curso\": \"Mecânica de Usinagem\"}\n",
        "\n",
        "aluno['idade'] = 24\n",
        "aluno['nota'] = 'MB'\n",
        "print (aluno)"
      ],
      "metadata": {
        "colab": {
          "base_uri": "https://localhost:8080/"
        },
        "id": "iKWxkQB0sJrQ",
        "outputId": "7d4732fd-f3d8-47af-c5ac-31b407010927"
      },
      "execution_count": null,
      "outputs": [
        {
          "output_type": "stream",
          "name": "stdout",
          "text": [
            "{'nome': 'Cleildu', 'idade': 24, 'curso': 'Mecânica de Usinagem', 'nota': 'MB'}\n"
          ]
        }
      ]
    },
    {
      "cell_type": "markdown",
      "source": [
        "#Exercicio 4 listas e dicionario"
      ],
      "metadata": {
        "id": "2uC3nEk4t2oj"
      }
    },
    {
      "cell_type": "code",
      "source": [
        "\n",
        "carro = [\n",
        "       { 'nome':  'Onix', 'preço': 20000 },\n",
        "       { 'nome':  'Gol', 'preço': 17000 },\n",
        "       {  'nome':  'Chevrolet camaro', 'preço': 555000 }]\n",
        "\n",
        "carro.append({'nome':  'Nissan Skyline R34', 'preço': 1000000})\n",
        "carro[0][\"preço\"] = 25000\n",
        "print(carro)"
      ],
      "metadata": {
        "id": "isLGkR8MtqMf",
        "colab": {
          "base_uri": "https://localhost:8080/"
        },
        "outputId": "7af3c412-8612-4e6d-a97d-741c944efb18"
      },
      "execution_count": 1,
      "outputs": [
        {
          "output_type": "stream",
          "name": "stdout",
          "text": [
            "[{'nome': 'Onix', 'preço': 25000}, {'nome': 'Gol', 'preço': 17000}, {'nome': 'Chevrolet camaro', 'preço': 555000}, {'nome': 'Nissan Skyline R34', 'preço': 1000000}]\n"
          ]
        }
      ]
    },
    {
      "cell_type": "markdown",
      "source": [
        "##Exercício 5: Analisando uma Lista de Tuplas\n",
        "\n",
        "- Crie uma lista de tuplas, onde cada tupla contém um par (nome, idade).\n",
        "- Encontre e imprima o nome da pessoa mais velha.\n",
        "- Encontre e imprima a idade midia das pessoas."
      ],
      "metadata": {
        "id": "l-8tT0WsYZha"
      }
    },
    {
      "cell_type": "code",
      "source": [
        "nomes = [('Matheus', 17), ('José', 23), ('João', 27), ('Andre',43)]\n",
        "maisvelho = 0\n",
        "nome = ' '\n",
        "if nomes[0][1] > maisvelho:\n",
        "  maisvelho = nomes[0][1]\n",
        "  nome = nomes[0][0]\n",
        "if nomes[1][1] >maisvelho:\n",
        "  maisvelho = nomes[1][1]\n",
        "  nome = nomes[1][1]\n",
        "if nomes[2][1] > maisvelho:\n",
        "  maisvelho = nomes[2][1]\n",
        "  nome = nomes[2][0]\n",
        "if nomes[3][1] > maisvelho:\n",
        "  maisvelho = nomes[3][1]\n",
        "  nome = nomes[3][0]\n",
        "  print(f'o mais velho é {nome}, ele tem {maisvelho}')\n",
        "\n",
        "media = ((nomes[0][1] + nomes[1][1] + nomes[2][1]  + nomes[3][1])/ 4)\n",
        "\n",
        "print(f'a média é {media} anos')"
      ],
      "metadata": {
        "colab": {
          "base_uri": "https://localhost:8080/"
        },
        "id": "4MZzkToiYhjE",
        "outputId": "c5c18c93-a097-48e7-82da-b49001d7f006"
      },
      "execution_count": 5,
      "outputs": [
        {
          "output_type": "stream",
          "name": "stdout",
          "text": [
            "o mais velho é Andre, ele tem 43\n",
            "a média é 27.5 anos\n"
          ]
        }
      ]
    }
  ]
}